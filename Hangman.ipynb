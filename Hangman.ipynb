{
  "nbformat": 4,
  "nbformat_minor": 0,
  "metadata": {
    "colab": {
      "provenance": []
    },
    "kernelspec": {
      "name": "python3",
      "display_name": "Python 3"
    },
    "language_info": {
      "name": "python"
    }
  },
  "cells": [
    {
      "cell_type": "code",
      "execution_count": 1,
      "metadata": {
        "colab": {
          "base_uri": "https://localhost:8080/"
        },
        "id": "1TCOOMB2_ugm",
        "outputId": "97473df6-b806-49d6-8572-f9dccef828c1"
      },
      "outputs": [
        {
          "output_type": "stream",
          "name": "stdout",
          "text": [
            "Welcome to Hangman!\n",
            "\n",
            "Word:  _ _ _ _ _ _\n",
            "Attempts left: 6\n",
            "Guessed letters: None\n",
            "Guess a letter: p\n",
            "Good job! 'p' is in the word.\n",
            "\n",
            "Word:  p _ _ _ _ _\n",
            "Attempts left: 6\n",
            "Guessed letters: p\n",
            "Guess a letter: y\n",
            "Good job! 'y' is in the word.\n",
            "\n",
            "Word:  p y _ _ _ _\n",
            "Attempts left: 6\n",
            "Guessed letters: p, y\n",
            "Guess a letter: t\n",
            "Good job! 't' is in the word.\n",
            "\n",
            "Word:  p y t _ _ _\n",
            "Attempts left: 6\n",
            "Guessed letters: p, t, y\n",
            "Guess a letter: h\n",
            "Good job! 'h' is in the word.\n",
            "\n",
            "Word:  p y t h _ _\n",
            "Attempts left: 6\n",
            "Guessed letters: h, p, t, y\n",
            "Guess a letter: o\n",
            "Good job! 'o' is in the word.\n",
            "\n",
            "Word:  p y t h o _\n",
            "Attempts left: 6\n",
            "Guessed letters: h, o, p, t, y\n",
            "Guess a letter: n\n",
            "Good job! 'n' is in the word.\n",
            "\n",
            "Congratulations! You guessed the word: python\n"
          ]
        }
      ],
      "source": [
        "import random\n",
        "\n",
        "def choose_word():\n",
        "    words = [\"python\", \"hangman\", \"challenge\", \"programming\", \"developer\"]\n",
        "    return random.choice(words).lower()\n",
        "\n",
        "def display_word(word, guessed_letters):\n",
        "    return \" \".join([letter if letter in guessed_letters else \"_\" for letter in word])\n",
        "\n",
        "def hangman(predefined_inputs=None):\n",
        "    print(\"Welcome to Hangman!\")\n",
        "    word_to_guess = choose_word()\n",
        "    guessed_letters = set()\n",
        "    attempts = 6\n",
        "\n",
        "    input_index = 0\n",
        "\n",
        "    while attempts > 0:\n",
        "        print(\"\\nWord: \", display_word(word_to_guess, guessed_letters))\n",
        "        print(f\"Attempts left: {attempts}\")\n",
        "        print(f\"Guessed letters: {', '.join(sorted(guessed_letters)) if guessed_letters else 'None'}\")\n",
        "\n",
        "        if predefined_inputs:\n",
        "            if input_index < len(predefined_inputs):\n",
        "                guess = predefined_inputs[input_index].lower()\n",
        "                input_index += 1\n",
        "                print(f\"Guess a letter: {guess}\")\n",
        "            else:\n",
        "                print(\"No more predefined inputs available.\")\n",
        "                break\n",
        "        else:\n",
        "            guess = input(\"Guess a letter: \").lower()\n",
        "\n",
        "        if len(guess) != 1 or not guess.isalpha():\n",
        "            print(\"Please enter a single letter.\")\n",
        "            continue\n",
        "\n",
        "        if guess in guessed_letters:\n",
        "            print(\"You already guessed that letter.\")\n",
        "            continue\n",
        "\n",
        "        guessed_letters.add(guess)\n",
        "\n",
        "        if guess in word_to_guess:\n",
        "            print(f\"Good job! '{guess}' is in the word.\")\n",
        "            if all(letter in guessed_letters for letter in word_to_guess):\n",
        "                print(f\"\\nCongratulations! You guessed the word: {word_to_guess}\")\n",
        "                break\n",
        "        else:\n",
        "            print(f\"Sorry, '{guess}' is not in the word.\")\n",
        "            attempts -= 1\n",
        "\n",
        "    if attempts == 0:\n",
        "        print(f\"\\nGame over! The word was: {word_to_guess}\")\n",
        "\n",
        "if __name__ == \"__main__\":\n",
        "    # Example predefined inputs for environments without input support\n",
        "    predefined_inputs = [\"p\", \"y\", \"t\", \"h\", \"o\", \"n\"]\n",
        "    hangman(predefined_inputs=predefined_inputs)\n"
      ]
    }
  ]
}